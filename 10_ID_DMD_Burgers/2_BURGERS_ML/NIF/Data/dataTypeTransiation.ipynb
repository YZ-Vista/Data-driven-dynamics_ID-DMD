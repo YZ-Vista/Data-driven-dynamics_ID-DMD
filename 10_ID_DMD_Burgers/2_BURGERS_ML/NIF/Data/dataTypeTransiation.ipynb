{
 "cells": [
  {
   "cell_type": "code",
   "execution_count": 11,
   "id": "b02c1fd8-3ea5-4604-9581-cbb2f52d1ef9",
   "metadata": {},
   "outputs": [
    {
     "name": "stdout",
     "output_type": "stream",
     "text": [
      "Successfully converted NIF_BUR_test_1.mat to NIF_BUR_test_1.npz.\n"
     ]
    }
   ],
   "source": [
    "import numpy as np\n",
    "from scipy.io import loadmat\n",
    "\n",
    "# 加载 .mat 文件\n",
    "mat_file = \"NIF_BUR_test_1.mat\"  # 替换为你的 .mat 文件路径\n",
    "data = loadmat(mat_file)\n",
    "\n",
    "# 删除 MATLAB 自动生成的元数据（以 \"__\" 开头的键）\n",
    "data_cleaned = {key: value for key, value in data.items() if not key.startswith(\"__\")}\n",
    "\n",
    "# 保存为 .npz 文件\n",
    "npz_file = \"NIF_BUR_test_1.npz\"  # 替换为目标 .npz 文件路径\n",
    "np.savez(npz_file, **data_cleaned)\n",
    "\n",
    "print(f\"Successfully converted {mat_file} to {npz_file}.\")\n"
   ]
  },
  {
   "cell_type": "code",
   "execution_count": 15,
   "id": "ad837d19-6b94-4cd2-8a5b-e787c1446571",
   "metadata": {},
   "outputs": [
    {
     "name": "stdout",
     "output_type": "stream",
     "text": [
      "Successfully converted NIF_BUR_test_3.mat to NIF_BUR_test_3.npz.\n"
     ]
    }
   ],
   "source": [
    "import numpy as np\n",
    "from scipy.io import loadmat\n",
    "\n",
    "# 加载 .mat 文件\n",
    "mat_file = \"NIF_BUR_test_3.mat\"  # 替换为你的 .mat 文件路径\n",
    "data = loadmat(mat_file)\n",
    "\n",
    "# 删除 MATLAB 自动生成的元数据（以 \"__\" 开头的键）\n",
    "data_cleaned = {key: value for key, value in data.items() if not key.startswith(\"__\")}\n",
    "\n",
    "# 保存为 .npz 文件\n",
    "npz_file = \"NIF_BUR_test_3.npz\"  # 替换为目标 .npz 文件路径\n",
    "np.savez(npz_file, **data_cleaned)\n",
    "\n",
    "print(f\"Successfully converted {mat_file} to {npz_file}.\")\n"
   ]
  }
 ],
 "metadata": {
  "kernelspec": {
   "display_name": "Python(DL_2)",
   "language": "python",
   "name": "dl_2"
  },
  "language_info": {
   "codemirror_mode": {
    "name": "ipython",
    "version": 3
   },
   "file_extension": ".py",
   "mimetype": "text/x-python",
   "name": "python",
   "nbconvert_exporter": "python",
   "pygments_lexer": "ipython3",
   "version": "3.10.15"
  }
 },
 "nbformat": 4,
 "nbformat_minor": 5
}
