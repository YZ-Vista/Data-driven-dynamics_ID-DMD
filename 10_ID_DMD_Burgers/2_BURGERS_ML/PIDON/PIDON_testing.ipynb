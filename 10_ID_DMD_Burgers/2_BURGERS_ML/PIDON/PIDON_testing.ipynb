{
 "cells": [
  {
   "cell_type": "code",
   "execution_count": null,
   "metadata": {
    "colab": {
     "base_uri": "https://localhost:8080/"
    },
    "id": "5VB9LM35bmkn",
    "outputId": "978393aa-a42a-4c06-c4ed-475b32b0cabb"
   },
   "outputs": [
    {
     "name": "stdout",
     "output_type": "stream",
     "text": [
      "Drive already mounted at /content/drive; to attempt to forcibly remount, call drive.mount(\"/content/drive\", force_remount=True).\n"
     ]
    }
   ],
   "source": [
    "from google.colab import drive\n",
    "drive.mount('/content/drive')\n"
   ]
  },
  {
   "cell_type": "code",
   "execution_count": 1,
   "metadata": {
    "id": "mRR_BT5vUnSw"
   },
   "outputs": [],
   "source": [
    "import numpy as onp\n",
    "import scipy.io\n",
    "from scipy.interpolate import griddata\n",
    "import jax.numpy as np\n",
    "from jax import random, grad, vmap, jit\n",
    "from jax.example_libraries import optimizers\n",
    "from jax import config\n",
    "from jax.flatten_util import ravel_pytree\n",
    "from jax.nn import relu, elu\n",
    "import itertools\n",
    "from functools import partial\n",
    "from torch.utils import data\n",
    "from tqdm import trange\n",
    "import matplotlib.pyplot as plt\n",
    "\n",
    "%matplotlib inline"
   ]
  },
  {
   "cell_type": "markdown",
   "metadata": {
    "id": "khw3mA9Ny3vf"
   },
   "source": [
    "# New Section"
   ]
  },
  {
   "cell_type": "code",
   "execution_count": 2,
   "metadata": {
    "id": "rTZSJ2taqCPZ"
   },
   "outputs": [],
   "source": [
    "# Define MLP\n",
    "def MLP(layers, activation=relu):\n",
    "  ''' Vanilla MLP'''\n",
    "  def init(rng_key):\n",
    "      def init_layer(key, d_in, d_out):\n",
    "          k1, k2 = random.split(key)\n",
    "          glorot_stddev = 1. / np.sqrt((d_in + d_out) / 2.)\n",
    "          W = glorot_stddev * random.normal(k1, (d_in, d_out))\n",
    "          b = np.zeros(d_out)\n",
    "          return W, b\n",
    "      key, *keys = random.split(rng_key, len(layers))\n",
    "      params = list(map(init_layer, keys, layers[:-1], layers[1:]))\n",
    "      return params\n",
    "  def apply(params, inputs):\n",
    "      for W, b in params[:-1]:\n",
    "          outputs = np.dot(inputs, W) + b\n",
    "          inputs = activation(outputs)\n",
    "      W, b = params[-1]\n",
    "      outputs = np.dot(inputs, W) + b\n",
    "      return outputs\n",
    "  return init, apply\n",
    "\n",
    "# Define modified MLP\n",
    "def modified_MLP(layers, activation=relu):\n",
    "  def xavier_init(key, d_in, d_out):\n",
    "      glorot_stddev = 1. / np.sqrt((d_in + d_out) / 2.)\n",
    "      W = glorot_stddev * random.normal(key, (d_in, d_out))\n",
    "      b = np.zeros(d_out)\n",
    "      return W, b\n",
    "\n",
    "  def init(rng_key):\n",
    "      U1, b1 =  xavier_init(random.PRNGKey(12345), layers[0], layers[1])\n",
    "      U2, b2 =  xavier_init(random.PRNGKey(54321), layers[0], layers[1])\n",
    "      def init_layer(key, d_in, d_out):\n",
    "          k1, k2 = random.split(key)\n",
    "          W, b = xavier_init(k1, d_in, d_out)\n",
    "          return W, b\n",
    "      key, *keys = random.split(rng_key, len(layers))\n",
    "      params = list(map(init_layer, keys, layers[:-1], layers[1:]))\n",
    "      return (params, U1, b1, U2, b2)\n",
    "\n",
    "  def apply(params, inputs):\n",
    "      params, U1, b1, U2, b2 = params\n",
    "      U = activation(np.dot(inputs, U1) + b1)\n",
    "      V = activation(np.dot(inputs, U2) + b2)\n",
    "      for W, b in params[:-1]:\n",
    "          outputs = activation(np.dot(inputs, W) + b)\n",
    "          inputs = np.multiply(outputs, U) + np.multiply(1 - outputs, V)\n",
    "      W, b = params[-1]\n",
    "      outputs = np.dot(inputs, W) + b\n",
    "      return outputs\n",
    "  return init, apply\n"
   ]
  },
  {
   "cell_type": "code",
   "execution_count": 3,
   "metadata": {
    "id": "yPdIBu2xPoi4"
   },
   "outputs": [],
   "source": [
    "###################################################################################################################\n",
    "# Data generator\n",
    "class DataGenerator(data.Dataset):\n",
    "    def __init__(self, u, y, s, v,\n",
    "                 batch_size=64, rng_key=random.PRNGKey(1234)):\n",
    "        'Initialization'\n",
    "        self.u = u\n",
    "        self.y = y\n",
    "        self.s = s\n",
    "        self.v = v\n",
    "\n",
    "        self.N = u.shape[0]\n",
    "        self.batch_size = batch_size\n",
    "        self.key = rng_key\n",
    "\n",
    "    def __getitem__(self, index):\n",
    "        'Generate one batch of data'\n",
    "        self.key, subkey = random.split(self.key)\n",
    "        inputs, outputs = self.__data_generation(subkey)\n",
    "        return inputs, outputs\n",
    "\n",
    "    @partial(jit, static_argnums=(0,))\n",
    "    def __data_generation(self, key):\n",
    "        'Generates data containing batch_size samples'\n",
    "        idx = random.choice(key, self.N, (self.batch_size,), replace=True) #False\n",
    "        s = self.s[idx,:]\n",
    "        y = self.y[idx,:]\n",
    "        u = self.u[idx,:]\n",
    "        v = self.v[idx,:]\n",
    "        # Construct batch\n",
    "        inputs = (u, y, v)\n",
    "        outputs = s\n",
    "        return inputs, outputs"
   ]
  },
  {
   "cell_type": "code",
   "execution_count": 4,
   "metadata": {
    "id": "kbh_Vdc8VmZZ"
   },
   "outputs": [],
   "source": [
    "# Define Physics-informed DeepONet model\n",
    "class PI_DeepONet:\n",
    "    def __init__(self, branch_layers, trunk_layers):\n",
    "        # Network initialization and evaluation functions\n",
    "        self.branch_init, self.branch_apply = modified_MLP(branch_layers, activation=np.tanh)\n",
    "        self.trunk_init, self.trunk_apply = modified_MLP(trunk_layers, activation=np.tanh)\n",
    "\n",
    "        # Initialize\n",
    "        branch_params = self.branch_init(rng_key = random.PRNGKey(1234))\n",
    "        trunk_params = self.trunk_init(rng_key = random.PRNGKey(4321))\n",
    "        params = (branch_params, trunk_params)\n",
    "\n",
    "        # Use optimizers to set optimizer initialization and update functions\n",
    "        self.opt_init, \\\n",
    "        self.opt_update, \\\n",
    "        self.get_params = optimizers.adam(optimizers.exponential_decay(1e-3, decay_steps=2000,decay_rate=0.9))\n",
    "        self.opt_state = self.opt_init(params)\n",
    "\n",
    "        # Used to restore the trained model parameters\n",
    "        _, self.unravel_params = ravel_pytree(params)\n",
    "\n",
    "        # Logger\n",
    "        self.itercount = itertools.count()\n",
    "        self.loss_log = []\n",
    "        self.loss_ics_log = []\n",
    "        self.loss_bcs_log = []\n",
    "        self.loss_res_log = []\n",
    "\n",
    "    # Define DeepONet architecture\n",
    "    def operator_net(self, params, u, t, x, v):\n",
    "        branch_params, trunk_params = params\n",
    "        # print(t.size, x.size, v.squeeze().size)\n",
    "        # print(t.shape, x.shape, v.squeeze().shape)\n",
    "        y = np.stack([t,x,v.squeeze()])\n",
    "        B = self.branch_apply(branch_params, u)\n",
    "        T = self.trunk_apply(trunk_params, y)\n",
    "        outputs = np.sum(B * T)\n",
    "        return   outputs\n",
    "\n",
    "    # Define ds/dx\n",
    "    def s_x_net(self, params, u, t, x, v):\n",
    "         s_x = grad(self.operator_net, argnums=3)(params, u, t, x, v)\n",
    "         return s_x\n",
    "\n",
    "    # Define PDE residual\n",
    "    def residual_net(self, params, u, t, x, v):\n",
    "        s = self.operator_net(params, u, t, x, v)\n",
    "        s_t = grad(self.operator_net, argnums=2)(params, u, t, x, v)\n",
    "        s_x = grad(self.operator_net, argnums=3)(params, u, t, x, v)\n",
    "        s_xx= grad(grad(self.operator_net, argnums=3), argnums=3)(params, u, t, x, v)\n",
    "\n",
    "        res = s_t + s * s_x - v * s_xx\n",
    "        return res\n",
    "\n",
    "    # Define initial loss\n",
    "    def loss_ics(self, params, batch):\n",
    "        # Fetch data\n",
    "        inputs, outputs = batch\n",
    "        u, y, v = inputs\n",
    "\n",
    "        # Compute forward pass\n",
    "        s_pred = vmap(self.operator_net, (None, 0, 0, 0, 0))(params, u, y[:,0], y[:,1], v)\n",
    "\n",
    "        # Compute loss\n",
    "        loss = np.mean((outputs.flatten() - s_pred)**2)\n",
    "        return loss\n",
    "\n",
    "    # Define boundary loss\n",
    "    def loss_bcs(self, params, batch):\n",
    "        # Fetch data\n",
    "        inputs, outputs = batch\n",
    "        u, y, v = inputs\n",
    "\n",
    "        # Compute forward pass\n",
    "        s_bc1_pred = vmap(self.operator_net, (None, 0, 0, 0, 0))(params, u, y[:,0], y[:,1], v)\n",
    "        s_bc2_pred = vmap(self.operator_net, (None, 0, 0, 0, 0))(params, u, y[:,2], y[:,3], v)\n",
    "\n",
    "        s_x_bc1_pred = vmap(self.s_x_net, (None, 0, 0, 0, 0))(params, u, y[:,0], y[:,1], v)\n",
    "        s_x_bc2_pred = vmap(self.s_x_net, (None, 0, 0, 0, 0))(params, u, y[:,2], y[:,3], v)\n",
    "\n",
    "        # Compute loss\n",
    "        loss_s_bc = np.mean((s_bc1_pred - s_bc2_pred)**2)\n",
    "        loss_s_x_bc = np.mean((s_x_bc1_pred - s_x_bc2_pred)**2)\n",
    "\n",
    "        return loss_s_bc + loss_s_x_bc\n",
    "\n",
    "    # Define residual loss\n",
    "    def loss_res(self, params, batch):\n",
    "        # Fetch data\n",
    "        inputs, outputs = batch\n",
    "        u, y, v = inputs\n",
    "        # Compute forward pass\n",
    "        pred = vmap(self.residual_net, (None, 0, 0, 0, 0))(params, u, y[:,0], y[:,1], v)\n",
    "\n",
    "        # Compute loss\n",
    "        loss = np.mean((outputs.flatten() - pred)**2)\n",
    "        return loss\n",
    "\n",
    "    # Define total loss\n",
    "    def loss(self, params, ics_batch, bcs_batch, res_batch):\n",
    "        loss_ics = self.loss_ics(params, ics_batch)\n",
    "        loss_bcs = self.loss_bcs(params, bcs_batch)\n",
    "        loss_res = self.loss_res(params, res_batch)\n",
    "        loss =  20 * loss_ics + loss_bcs +  loss_res\n",
    "        return loss\n",
    "\n",
    "    # Define a compiled update step\n",
    "    @partial(jit, static_argnums=(0,))\n",
    "    def step(self, i, opt_state, ics_batch, bcs_batch, res_batch):\n",
    "        params = self.get_params(opt_state)\n",
    "        g = grad(self.loss)(params, ics_batch, bcs_batch, res_batch)\n",
    "        return self.opt_update(i, g, opt_state)\n",
    "\n",
    "    # Optimize parameters in a loop\n",
    "    def train(self, ics_dataset, bcs_dataset, res_dataset, nIter = 10000):\n",
    "        ics_data = iter(ics_dataset)\n",
    "        bcs_data = iter(bcs_dataset)\n",
    "        res_data = iter(res_dataset)\n",
    "\n",
    "        pbar = trange(nIter)\n",
    "        # Main training loop\n",
    "        for it in pbar:\n",
    "            # Fetch data\n",
    "            ics_batch= next(ics_data)\n",
    "            bcs_batch= next(bcs_data)\n",
    "            res_batch = next(res_data)\n",
    "\n",
    "            self.opt_state = self.step(next(self.itercount), self.opt_state, ics_batch, bcs_batch, res_batch)\n",
    "\n",
    "            if it % 100 == 0:\n",
    "                params = self.get_params(self.opt_state)\n",
    "\n",
    "                # Compute losses\n",
    "                loss_value = self.loss(params, ics_batch, bcs_batch, res_batch)\n",
    "                loss_ics_value = self.loss_ics(params, ics_batch)\n",
    "                loss_bcs_value = self.loss_bcs(params, bcs_batch)\n",
    "                loss_res_value = self.loss_res(params, res_batch)\n",
    "\n",
    "                # Store losses\n",
    "                self.loss_log.append(loss_value)\n",
    "                self.loss_ics_log.append(loss_ics_value)\n",
    "                self.loss_bcs_log.append(loss_bcs_value)\n",
    "                self.loss_res_log.append(loss_res_value)\n",
    "\n",
    "                # Print losses\n",
    "                pbar.set_postfix({'Loss': loss_value,\n",
    "                                  'loss_ics' : loss_ics_value,\n",
    "                                  'loss_bcs' : loss_bcs_value,\n",
    "                                  'loss_physics': loss_res_value})\n",
    "\n",
    "    # Evaluates predictions at test points\n",
    "    @partial(jit, static_argnums=(0,))\n",
    "    def predict_s(self, params, U_star, Y_star, V_star):\n",
    "        s_pred = vmap(self.operator_net, (None, 0, 0, 0, 0))(params, U_star, Y_star[:,0], Y_star[:,1], V_star)\n",
    "        return s_pred\n",
    "\n",
    "    @partial(jit, static_argnums=(0,))\n",
    "    def predict_res(self, params, U_star, Y_star, V_star):\n",
    "        r_pred = vmap(self.residual_net, (None, 0, 0, 0, 0))(params, U_star, Y_star[:,0], Y_star[:,1], V_star)\n",
    "        return r_pred"
   ]
  },
  {
   "cell_type": "code",
   "execution_count": 5,
   "metadata": {
    "id": "k6NL6NI7P9Jo"
   },
   "outputs": [],
   "source": [
    "# Geneate ics training data corresponding to one input sample\n",
    "def generate_one_ics_training_data(key, u0, ut0_v, m=101, P=101):\n",
    "\n",
    "    t_0 = np.zeros((P,1))\n",
    "    x_0 = np.linspace(0, 1, P)[:, None]\n",
    "\n",
    "    y = np.hstack([t_0, x_0])\n",
    "    u = np.tile(u0, (P, 1))\n",
    "    s = u0\n",
    "    v = np.tile(ut0_v, (P, 1))\n",
    "\n",
    "    return u, y, s, v\n",
    "\n",
    "# Geneate bcs training data corresponding to one input sample\n",
    "def generate_one_bcs_training_data(key, u0, ub01_v, m=101, P=100):\n",
    "\n",
    "    t_bc = random.uniform(key, (P,1))\n",
    "    x_bc1 = np.zeros((P, 1))\n",
    "    x_bc2 = np.ones((P, 1))\n",
    "\n",
    "    y1 = np.hstack([t_bc, x_bc1])  # shape = (P, 2)\n",
    "    y2 = np.hstack([t_bc, x_bc2])  # shape = (P, 2)\n",
    "\n",
    "    u = np.tile(u0, (P, 1))\n",
    "    y =  np.hstack([y1, y2])  # shape = (P, 4)\n",
    "    s = np.zeros((P, 1))\n",
    "    v = np.tile(ub01_v, (P, 1))\n",
    "\n",
    "    return u, y, s, v\n",
    "\n",
    "# Geneate res training data corresponding to one input sample\n",
    "def generate_one_res_training_data(key, u0, ures_v, m=101, P=1000):\n",
    "\n",
    "    subkeys = random.split(key, 2)\n",
    "\n",
    "    t_res = random.uniform(subkeys[0], (P,1))\n",
    "    x_res = random.uniform(subkeys[1], (P,1))\n",
    "\n",
    "    u = np.tile(u0, (P, 1))\n",
    "    y =  np.hstack([t_res, x_res])\n",
    "    s = np.zeros((P, 1))\n",
    "    v = np.tile(ures_v, (P, 1))\n",
    "\n",
    "    return u, y, s, v\n",
    "\n",
    "# Geneate test data corresponding to one input sample\n",
    "def generate_one_test_data(idx,usol, u_v, m=101, P=101):\n",
    "\n",
    "    u = usol[idx]\n",
    "    u0 = u[0,:]\n",
    "    v0 = u_v[idx]\n",
    "\n",
    "    t = np.linspace(0, 1, P)\n",
    "    x = np.linspace(0, 1, P)\n",
    "    T, X = np.meshgrid(t, x)\n",
    "\n",
    "    s = u.T.flatten()\n",
    "    u = np.tile(u0, (P**2, 1))\n",
    "    y = np.hstack([T.flatten()[:,None], X.flatten()[:,None]])\n",
    "    v = np.tile(v0, (P**2, 1))\n",
    "\n",
    "    return u, y, s, v\n",
    "\n",
    "# Geneate training data corresponding to N input sample\n",
    "def compute_error(idx,u_v, usol,  m, P):\n",
    "    u_test, y_test, s_test, v_test = generate_one_test_data(idx, usol, u_v,m, P )\n",
    "\n",
    "    u_test = u_test.reshape(P**2,-1)\n",
    "    y_test = y_test.reshape(P**2,-1)\n",
    "    s_test = s_test.reshape(P**2,-1)\n",
    "    v_test = v_test.reshape(P**2,-1)\n",
    "\n",
    "    s_pred = model.predict_s(params, u_test, y_test, v_test)[:,None]\n",
    "    error = np.linalg.norm(s_test - s_pred) / np.linalg.norm(s_test)\n",
    "\n",
    "    return error"
   ]
  },
  {
   "cell_type": "code",
   "execution_count": 6,
   "metadata": {
    "id": "kHQrJdCEy2yo"
   },
   "outputs": [],
   "source": [
    "# Prepare the training data\n",
    "\n",
    "# Load data\n",
    "path = 'E:/Liang/PIDON/PIDON_BUR_TEST.mat'  # Please use the matlab script to generate data\n",
    "\n",
    "data = scipy.io.loadmat(path)\n",
    "usol = np.array( data['output'])\n",
    "usol_v = np.array( data['vinput'])\n",
    "\n",
    "N = usol.shape[0]  # number of total input samples\n",
    "N_train =1      # number of input samples used for training\n",
    "N_test = N - N_train  # number of input samples used for test\n",
    "m = 101            # number of sensors for input samples\n",
    "P_ics_train = 101   # number of locations for evulating the initial condition\n",
    "P_bcs_train = 100    # number of locations for evulating the boundary condition\n",
    "P_res_train = 2500   # number of locations for evulating the PDE residual\n",
    "P_test = 101        # resolution of uniform grid for the test data\n",
    "\n",
    "u0_train = usol[:N_train,0,:]   # input samples\n",
    "v0_train = usol_v[:N_train]\n",
    "\n",
    "# usol_train = usol[:N_train,:,:]\n",
    "\n",
    "key = random.PRNGKey(0) # use different key for generating test data\n",
    "keys = random.split(key, N_train)\n",
    "\n",
    "# Generate training data for inital condition\n",
    "u_ics_train, y_ics_train, s_ics_train, v_ics_train = vmap(generate_one_ics_training_data, in_axes=(0, 0, 0, None, None))(keys, u0_train, v0_train, m, P_ics_train)\n",
    "\n",
    "u_ics_train = u_ics_train.reshape(N_train * P_ics_train,-1)\n",
    "y_ics_train = y_ics_train.reshape(N_train * P_ics_train,-1)\n",
    "s_ics_train = s_ics_train.reshape(N_train * P_ics_train,-1)\n",
    "v_ics_train = v_ics_train.reshape(N_train * P_ics_train,-1)\n",
    "\n",
    "# Generate training data for boundary condition\n",
    "u_bcs_train, y_bcs_train, s_bcs_train, v_bcs_train = vmap(generate_one_bcs_training_data, in_axes=(0, 0, 0, None, None))(keys, u0_train, v0_train, m, P_bcs_train)\n",
    "\n",
    "u_bcs_train = u_bcs_train.reshape(N_train * P_bcs_train,-1)\n",
    "y_bcs_train = y_bcs_train.reshape(N_train * P_bcs_train,-1)\n",
    "s_bcs_train = s_bcs_train.reshape(N_train * P_bcs_train,-1)\n",
    "v_bcs_train = v_bcs_train.reshape(N_train * P_bcs_train,-1)\n",
    "\n",
    "# Generate training data for PDE residual\n",
    "u_res_train, y_res_train, s_res_train, v_res_train = vmap(generate_one_res_training_data, in_axes=(0, 0, 0, None, None))(keys, u0_train, v0_train, m, P_res_train)\n",
    "\n",
    "u_res_train = u_res_train.reshape(N_train * P_res_train,-1)\n",
    "y_res_train = y_res_train.reshape(N_train * P_res_train,-1)\n",
    "s_res_train = s_res_train.reshape(N_train * P_res_train,-1)\n",
    "v_res_train = v_res_train.reshape(N_train * P_res_train,-1)"
   ]
  },
  {
   "cell_type": "code",
   "execution_count": 7,
   "metadata": {
    "id": "3e0d9ay6he_Q"
   },
   "outputs": [],
   "source": [
    "# Initialize model\n",
    "branch_layers = [m, 100, 100, 100, 100, 100, 100, 100]\n",
    "trunk_layers =  [3, 100, 100, 100, 100, 100, 100, 100]\n",
    "model = PI_DeepONet(branch_layers, trunk_layers)"
   ]
  },
  {
   "cell_type": "code",
   "execution_count": 8,
   "metadata": {
    "id": "BmduhGwcHHXs"
   },
   "outputs": [],
   "source": [
    "# Create data set\n",
    "batch_size = 5000\n",
    "ics_dataset = DataGenerator(u_ics_train, y_ics_train, s_ics_train, v_ics_train, batch_size)\n",
    "bcs_dataset = DataGenerator(u_bcs_train, y_bcs_train, s_bcs_train, v_bcs_train, batch_size)\n",
    "res_dataset = DataGenerator(u_res_train, y_res_train, s_res_train, v_res_train, batch_size)"
   ]
  },
  {
   "cell_type": "code",
   "execution_count": 10,
   "metadata": {
    "id": "B8LNgSMHy2yo"
   },
   "outputs": [],
   "source": [
    "import pickle\n",
    "# load .pkl file\n",
    "with open('/content/drive/MyDrive/nif/modified_MLP_lam_{}_params.pkl'.format(20), 'rb') as f:\n",
    "    params = pickle.load(f)"
   ]
  },
  {
   "cell_type": "code",
   "execution_count": 11,
   "metadata": {
    "colab": {
     "base_uri": "https://localhost:8080/"
    },
    "id": "05zrmpicNOHR",
    "outputId": "b591b80f-3fc5-4acd-dedc-ad94653f7491"
   },
   "outputs": [
    {
     "name": "stdout",
     "output_type": "stream",
     "text": [
      "(2, 1)\n",
      "Mean relative L2 error of s: 2.35e-02\n"
     ]
    }
   ],
   "source": [
    "# Compute relative l2 error over test data\n",
    "idx = random.randint(key=random.PRNGKey(12345), shape=(400,), minval=N_train, maxval=2000)\n",
    "k= 0\n",
    "N_test = 100\n",
    "idx = np.arange(k, k + N_test)\n",
    "print(usol_v.shape)\n",
    "errors = vmap(compute_error, in_axes=(0,None,None, None, None))(idx, usol_v,usol, m, P_test)\n",
    "mean_error = errors.mean()\n",
    "\n",
    "print('Mean relative L2 error of s: {:.2e}'.format(mean_error))"
   ]
  },
  {
   "cell_type": "code",
   "execution_count": 15,
   "metadata": {
    "colab": {
     "base_uri": "https://localhost:8080/",
     "height": 663
    },
    "id": "NicghBbsmLUH",
    "outputId": "68a644e0-928c-45d3-ab63-726fbe1760e3"
   },
   "outputs": [
    {
     "name": "stdout",
     "output_type": "stream",
     "text": [
      "(10201, 101) (10201, 2) (10201, 1) (10201, 1)\n",
      "[[0.01]\n",
      " [0.01]\n",
      " [0.01]\n",
      " ...\n",
      " [0.01]\n",
      " [0.01]\n",
      " [0.01]]\n",
      "error_s: 2.119e-01\n"
     ]
    },
    {
     "data": {
      "image/png": "[encoded data removed]",
      "text/plain": [
       "<Figure size 1800x500 with 6 Axes>"
      ]
     },
     "metadata": {},
     "output_type": "display_data"
    }
   ],
   "source": [
    "# Plot for one generated data\n",
    "k = 1 # index, 0 means extrapolation prediction and 1 means interpolation prediction\n",
    "u = usol[k,:, :]\n",
    "u0 = usol[k,0,:]\n",
    "v0 = usol_v[0]\n",
    "\n",
    "\n",
    "P_test = 101\n",
    "\n",
    "t = np.linspace(0, 1, P_test)\n",
    "x = np.linspace(0, 1, P_test)\n",
    "T, X = np.meshgrid(t, x)\n",
    "\n",
    "u_test = np.tile(u0, (P_test**2, 1))\n",
    "y_test = np.hstack([T.flatten()[:,None], X.flatten()[:,None]])\n",
    "s_test = u.flatten()[:,None]\n",
    "v_test = np.tile(v0, (P_test**2, 1))\n",
    "print(u_test.shape,y_test.shape,s_test.shape,v_test.shape)\n",
    "s_pred = model.predict_s(params, u_test, y_test, v_test)[:,None]\n",
    "S_pred = griddata(y_test, s_pred.flatten(), (T, X), method='cubic')\n",
    "print(v_test)\n",
    "\n",
    "error_s = np.linalg.norm(u - S_pred.T, 2) / np.linalg.norm(u, 2)\n",
    "\n",
    "print(\"error_s: {:.3e}\".format(error_s))\n",
    "\n",
    "fig = plt.figure(figsize=(18,5))\n",
    "plt.subplot(1,3,1)\n",
    "plt.pcolor(T, X, u, cmap='jet')\n",
    "plt.xlabel('$x$')\n",
    "plt.ylabel('$t$')\n",
    "plt.title('Exact $s(x,t)$')\n",
    "plt.colorbar()\n",
    "plt.tight_layout()\n",
    "\n",
    "plt.subplot(1,3,2)\n",
    "plt.pcolor(T, X, S_pred.T, cmap='jet')\n",
    "plt.xlabel('$x$')\n",
    "plt.ylabel('$t$')\n",
    "plt.title('Predict $s(x,t)$')\n",
    "plt.colorbar()\n",
    "plt.tight_layout()\n",
    "\n",
    "plt.subplot(1,3,3)\n",
    "plt.pcolor(T, X, np.abs(S_pred.T - u), cmap='jet')\n",
    "plt.xlabel('$x$')\n",
    "plt.ylabel('$t$')\n",
    "plt.title('Absolute error')\n",
    "plt.colorbar()\n",
    "plt.tight_layout()\n",
    "plt.show()"
   ]
  },
  {
   "cell_type": "code",
   "execution_count": 17,
   "metadata": {
    "colab": {
     "base_uri": "https://localhost:8080/"
    },
    "id": "O7RI0awHkxP7",
    "outputId": "4ccb57e5-4d88-436a-8933-288e89441bd5"
   },
   "outputs": [
    {
     "name": "stdout",
     "output_type": "stream",
     "text": [
      "文件已保存为 inter_test.mat\n"
     ]
    }
   ],
   "source": [
    "from scipy.io import savemat\n",
    "\n",
    "data = {\n",
    "    'inter_true': u.T,\n",
    "    'inter_pred': S_pred\n",
    "}\n",
    "\n",
    "# save as .mat file\n",
    "file_path = 'inter_test.mat'\n",
    "savemat(file_path, data)\n",
    "\n",
    "print(f\"file has been saved as {file_path}\")\n"
   ]
  },
  {
   "cell_type": "code",
   "execution_count": 18,
   "metadata": {
    "colab": {
     "base_uri": "https://localhost:8080/"
    },
    "id": "7cBrEBsdkAQj",
    "outputId": "e4869015-9704-4bd9-98c1-6737f93abe90"
   },
   "outputs": [
    {
     "name": "stdout",
     "output_type": "stream",
     "text": [
      "文件已保存为 extra_test.mat\n"
     ]
    }
   ],
   "source": [
    "from scipy.io import savemat\n",
    "data = {\n",
    "    'extra_true': u.T,\n",
    "    'extra_pred': S_pred\n",
    "}\n",
    "\n",
    "# save as .mat file\n",
    "file_path = 'extra_test.mat'\n",
    "savemat(file_path, data)\n",
    "\n",
    "print(f\"file has been saved as {file_path}\")\n"
   ]
  }
 ],
 "metadata": {
  "accelerator": "TPU",
  "colab": {
   "gpuType": "V28",
   "provenance": []
  },
  "kernelspec": {
   "display_name": "Python [conda env:DL_1]",
   "language": "python",
   "name": "conda-env-DL_1-py"
  },
  "language_info": {
   "codemirror_mode": {
    "name": "ipython",
    "version": 3
   },
   "file_extension": ".py",
   "mimetype": "text/x-python",
   "name": "python",
   "nbconvert_exporter": "python",
   "pygments_lexer": "ipython3",
   "version": "3.12.3"
  }
 },
 "nbformat": 4,
 "nbformat_minor": 1
}
