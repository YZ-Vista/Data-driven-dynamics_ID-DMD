{
 "cells": [
  {
   "cell_type": "markdown",
   "id": "3fa02157",
   "metadata": {},
   "source": [
    "# Import Libraries"
   ]
  },
  {
   "cell_type": "code",
   "execution_count": 96,
   "id": "18120336",
   "metadata": {},
   "outputs": [
    {
     "name": "stdout",
     "output_type": "stream",
     "text": [
      "cuda\n"
     ]
    }
   ],
   "source": [
    "import torch\n",
    "import torch.autograd as autograd         # computation graph\n",
    "from torch import Tensor                  # tensor node in the computation graph\n",
    "import torch.nn as nn                     # neural networks\n",
    "import torch.optim as optim               # optimizers e.g. gradient descent, ADAM, etc.\n",
    "\n",
    "import matplotlib.pyplot as plt\n",
    "import matplotlib.gridspec as gridspec\n",
    "from mpl_toolkits.axes_grid1 import make_axes_locatable\n",
    "from mpl_toolkits.mplot3d import Axes3D\n",
    "import matplotlib.ticker\n",
    "\n",
    "import numpy as np\n",
    "import time\n",
    "from pyDOE import lhs         #Latin Hypercube Sampling\n",
    "import scipy.io\n",
    "\n",
    "#Set default dtype to float32\n",
    "torch.set_default_dtype(torch.float)\n",
    "\n",
    "#PyTorch random number generator\n",
    "torch.manual_seed(1234)\n",
    "\n",
    "# Random number generators in other libraries\n",
    "np.random.seed(1234)\n",
    "\n",
    "# Device configuration\n",
    "device = torch.device('cuda' if torch.cuda.is_available() else 'cpu')\n",
    "\n",
    "print(device)\n",
    "\n",
    "if device == 'cuda': \n",
    "    print(torch.cuda.get_device_name()) "
   ]
  },
  {
   "cell_type": "markdown",
   "id": "4df48f25",
   "metadata": {},
   "source": [
    "# *Data Prep*\n",
    "\n",
    "Training and Testing data is prepared from the solution file"
   ]
  },
  {
   "cell_type": "code",
   "execution_count": 97,
   "id": "d72bbfaf-4bac-4c5f-b375-e7db2889079e",
   "metadata": {},
   "outputs": [],
   "source": [
    "data = scipy.io.loadmat('OriginalData/Burges_Pinns_train.mat')  \t# Load data from file\n",
    "x = data['x2']                                  # 256 points between -1 and 1 [256x1]\n",
    "t = data['t2']                                   # 100 time points between 0 and 1 [100x1] \n",
    "nu =data['v2']\n",
    "usol = data['usol_2']        # 1st dimension means space location, 2nd means time, 3rd means additional parameter                     \n",
    "\n",
    "X, T, V = np.meshgrid(x,t, nu)  # if the sizes of x,t,nu are 50，100，5, then the size of X is 100*50*5   \n",
    "Downloads/nif-main/nif-main/CITATION.cff"
   ]
  },
  {
   "cell_type": "markdown",
   "id": "a8d6b279",
   "metadata": {},
   "source": [
    "# Test Data\n",
    "\n",
    "We prepare the test data to compare against the solution produced by the PINN."
   ]
  },
  {
   "cell_type": "code",
   "execution_count": 101,
   "id": "7d63c34c",
   "metadata": {
    "colab": {},
    "colab_type": "code",
    "id": "yddknKA2Xohp"
   },
   "outputs": [
    {
     "name": "stdout",
     "output_type": "stream",
     "text": [
      "(51005, 3) (51005, 1) [0.    0.    0.014] [1.    1.    0.046]\n"
     ]
    }
   ],
   "source": [
    "''' X_u_test = [X[i],T[i]] [25600,2] for interpolation'''\n",
    "X_u_test = np.hstack((X.flatten()[:,None], T.flatten()[:,None], V.flatten()[:,None]))\n",
    "\n",
    "# Domain bounds\n",
    "lb = X_u_test[0]  # [-1. 0.]\n",
    "ub = X_u_test[-1] # [1.  0.99]\n",
    "\n",
    "'''\n",
    "   Fortran Style ('F') flatten,stacked column wise!\n",
    "   u = [c1 \n",
    "        c2\n",
    "        .\n",
    "        .\n",
    "        cn]\n",
    "\n",
    "   u =  [25600x1] \n",
    "'''\n",
    "usol_transposed = usol.transpose(1, 0, 2)\n",
    "usol_reshaped = usol_transposed.reshape(101, 101, 5)\n",
    "u_true = usol_reshaped.flatten('C')[:,None] \n",
    "\n",
    "print(X_u_test.shape,u_true.shape,lb,ub)\n",
    "# 51005= 101* 101* 5"
   ]
  },
  {
   "cell_type": "markdown",
   "id": "f341abe7",
   "metadata": {},
   "source": [
    "# Training Data"
   ]
  },
  {
   "cell_type": "code",
   "execution_count": 102,
   "id": "029648c5",
   "metadata": {
    "colab": {},
    "colab_type": "code",
    "id": "8UVJmvZbXjXb"
   },
   "outputs": [],
   "source": [
    "def trainingdata(N_u,N_f):\n",
    "\n",
    "    '''Boundary Conditions'''\n",
    "\n",
    "    #Initial Condition -1 =< x =<1 and t = 0  \n",
    "    leftedge_x = np.hstack((X[0,:,:].flatten()[:,None], T[0,:,:].flatten()[:,None], V[0,:,:].flatten()[:,None])) #L1\n",
    "    leftedge_u = usol[:,0,:].flatten()[:,None]\n",
    "\n",
    "    #Boundary Condition x = -1 and 0 =< t =<1\n",
    "    bottomedge_x = np.hstack((X[:,0,:].flatten()[:,None], T[:,0,:].flatten()[:,None], V[:,0,:].flatten()[:,None])) #L2\n",
    "    bottomedge_u = usol[-1,:,:].flatten()[:,None]\n",
    "\n",
    "    #Boundary Condition x = 1 and 0 =< t =<1\n",
    "    topedge_x = np.hstack((X[:,-1,:].flatten()[:,None], T[:,-1,:].flatten()[:,None], V[:,-1,:].flatten()[:,None])) #L2\n",
    "    topedge_u = usol[0,:,:].flatten()[:,None]\n",
    "\n",
    "    all_X_u_train = np.vstack([leftedge_x, bottomedge_x, topedge_x]) # X_u_train [456,2] (456 = 256(L1)+100(L2)+100(L3))\n",
    "    all_u_train = np.vstack([leftedge_u, bottomedge_u, topedge_u])   #corresponding u [456x1]\n",
    "\n",
    "    #choose random N_u points for training\n",
    "    idx = np.random.choice(all_X_u_train.shape[0], N_u, replace=False) \n",
    "\n",
    "    X_u_train = all_X_u_train[idx, :] #choose indices from  set 'idx' (x,t)\n",
    "    u_train = all_u_train[idx,:]      #choose corresponding u\n",
    "\n",
    "    '''Collocation Points'''\n",
    "\n",
    "    # Latin Hypercube sampling for collocation points \n",
    "    # N_f sets of tuples(x,t)\n",
    "    X_f_train = lb + (ub-lb)*lhs(3,N_f) \n",
    "    X_f_train = np.vstack((X_f_train, X_u_train)) # append training points to collocation points \n",
    "\n",
    "    return X_f_train, X_u_train, u_train \n"
   ]
  },
  {
   "cell_type": "markdown",
   "id": "f7edd6f6",
   "metadata": {},
   "source": [
    "# Physics Informed Neural Network"
   ]
  },
  {
   "cell_type": "code",
   "execution_count": 103,
   "id": "c3cf3b7e",
   "metadata": {},
   "outputs": [],
   "source": [
    "class Sequentialmodel(nn.Module):\n",
    "    \n",
    "    def __init__(self,layers):\n",
    "        super().__init__() #call __init__ from parent class \n",
    "              \n",
    "        'activation function'\n",
    "        self.activation = nn.Tanh()\n",
    "\n",
    "        'loss function'\n",
    "        self.loss_function = nn.MSELoss(reduction ='mean')\n",
    "    \n",
    "        'Initialise neural network as a list using nn.Modulelist'  \n",
    "        self.linears = nn.ModuleList([nn.Linear(layers[i], layers[i+1]) for i in range(len(layers)-1)])\n",
    "        \n",
    "        self.iter = 0\n",
    "        \n",
    "        '''\n",
    "        Alternatively:\n",
    "        \n",
    "        *all layers are callable \n",
    "    \n",
    "        Simple linear Layers\n",
    "        self.fc1 = nn.Linear(2,50)\n",
    "        self.fc2 = nn.Linear(50,50)\n",
    "        self.fc3 = nn.Linear(50,50)\n",
    "        self.fc4 = nn.Linear(50,1)\n",
    "        \n",
    "        '''\n",
    "    \n",
    "        'Xavier Normal Initialization'\n",
    "        # std = gain * sqrt(2/(input_dim+output_dim))\n",
    "        for i in range(len(layers)-1):\n",
    "            \n",
    "            # weights from a normal distribution with \n",
    "            # Recommended gain value for tanh = 5/3?\n",
    "            nn.init.xavier_normal_(self.linears[i].weight.data, gain=1.0)\n",
    "            \n",
    "            # set biases to zero\n",
    "            nn.init.zeros_(self.linears[i].bias.data)\n",
    "            \n",
    "    'foward pass'\n",
    "    def forward(self,x):\n",
    "        \n",
    "        if torch.is_tensor(x) != True:         \n",
    "            x = torch.from_numpy(x)                \n",
    "        \n",
    "        # u_b = torch.from_numpy(ub).float().to(device)\n",
    "        # l_b = torch.from_numpy(lb).float().to(device)\n",
    "                      \n",
    "        # #preprocessing input \n",
    "        # x = (x - l_b)/(u_b - l_b) #feature scaling\n",
    "        \n",
    "        #convert to float\n",
    "        a = x.float()\n",
    "                        \n",
    "        '''     \n",
    "        Alternatively:\n",
    "        \n",
    "        a = self.activation(self.fc1(a))\n",
    "        a = self.activation(self.fc2(a))\n",
    "        a = self.activation(self.fc3(a))\n",
    "        a = self.fc4(a)\n",
    "        \n",
    "        '''\n",
    "        \n",
    "        for i in range(len(layers)-2):\n",
    "            \n",
    "            z = self.linears[i](a)\n",
    "                        \n",
    "            a = self.activation(z)\n",
    "            \n",
    "        a = self.linears[-1](a)\n",
    "        \n",
    "        return a\n",
    "                        \n",
    "    def loss_BC(self,x,y):\n",
    "                \n",
    "        loss_u = self.loss_function(self.forward(x), y)\n",
    "                \n",
    "        return loss_u\n",
    "    \n",
    "    def loss_PDE(self, x_to_train_f):\n",
    "        \n",
    "        # nu = 0.01/np.pi\n",
    "                \n",
    "        x_1_f = x_to_train_f[:,[0]]\n",
    "        x_2_f = x_to_train_f[:,[1]]\n",
    "        nu    = x_to_train_f[:,[2]]\n",
    "                        \n",
    "        g = x_to_train_f.clone()\n",
    "                        \n",
    "        g.requires_grad = True\n",
    "        \n",
    "        u = self.forward(g)\n",
    "                \n",
    "        u_x_t = autograd.grad(u,g,torch.ones([x_to_train_f.shape[0], 1]).to(device), retain_graph=True, create_graph=True)[0]\n",
    "                                \n",
    "        u_xx_tt = autograd.grad(u_x_t,g,torch.ones(x_to_train_f.shape).to(device), create_graph=True)[0]\n",
    "                                                            \n",
    "        u_x = u_x_t[:,[0]]\n",
    "        \n",
    "        u_t = u_x_t[:,[1]]\n",
    "        \n",
    "        u_xx = u_xx_tt[:,[0]]\n",
    "\n",
    "        # print(u_t.shape,nu.shape,u_xx.shape)\n",
    "        f = u_t + (self.forward(g))*(u_x) - (nu)*u_xx \n",
    "        # f = u_t + (self.forward(g))*(u_x) -  torch.dot(nu.squeeze(), u_xx.squeeze())\n",
    "        # print(torch.dot(nu.squeeze(), u_xx.squeeze()).shape)\n",
    "        loss_f = self.loss_function(f,f_hat)\n",
    "                \n",
    "        return loss_f\n",
    "    \n",
    "    def loss(self,x,y,x_to_train_f):\n",
    "\n",
    "        loss_u = self.loss_BC(x,y)\n",
    "        loss_f = self.loss_PDE(x_to_train_f)\n",
    "        \n",
    "        loss_val = loss_u + loss_f\n",
    "        \n",
    "        return loss_val\n",
    "     \n",
    "    'callable for optimizer'                                       \n",
    "    def closure(self):\n",
    "        \n",
    "        optimizer.zero_grad()\n",
    "        \n",
    "        loss = self.loss(X_u_train, u_train, X_f_train)\n",
    "        \n",
    "        loss.backward()\n",
    "                \n",
    "        self.iter += 1\n",
    "        \n",
    "        if self.iter % 100 == 0:\n",
    "\n",
    "            error_vec, _ = PINN.test()\n",
    "        \n",
    "            print(loss,error_vec)\n",
    "\n",
    "        return loss        \n",
    "    \n",
    "    'test neural network'\n",
    "    def test(self):\n",
    "                \n",
    "        u_pred = self.forward(X_u_test_tensor)\n",
    "        \n",
    "        error_vec = torch.linalg.norm((u-u_pred),2)/torch.linalg.norm(u,2)        # Relative L2 Norm of the error (Vector)\n",
    "        \n",
    "        u_pred = u_pred.cpu().detach().numpy()\n",
    "        \n",
    "        u_pred = np.reshape(u_pred,(101,101,5)) \n",
    "        u_pred = u_pred.transpose(1, 0, 2)      \n",
    "        u_pred = u_pred.reshape(101,101,5)\n",
    "                \n",
    "        return error_vec, u_pred"
   ]
  },
  {
   "cell_type": "markdown",
   "id": "1776a33b",
   "metadata": {},
   "source": [
    "# Main"
   ]
  },
  {
   "cell_type": "code",
   "execution_count": 104,
   "id": "d86ac410",
   "metadata": {
    "scrolled": true
   },
   "outputs": [
    {
     "name": "stdout",
     "output_type": "stream",
     "text": [
      "Sequentialmodel(\n",
      "  (activation): Tanh()\n",
      "  (loss_function): MSELoss()\n",
      "  (linears): ModuleList(\n",
      "    (0): Linear(in_features=3, out_features=20, bias=True)\n",
      "    (1-7): 7 x Linear(in_features=20, out_features=20, bias=True)\n",
      "    (8): Linear(in_features=20, out_features=1, bias=True)\n",
      "  )\n",
      ")\n",
      "tensor(0.0209, device='cuda:0', grad_fn=<AddBackward0>) tensor(0.5436, device='cuda:0', grad_fn=<DivBackward0>)\n",
      "tensor(0.0112, device='cuda:0', grad_fn=<AddBackward0>) tensor(0.3791, device='cuda:0', grad_fn=<DivBackward0>)\n",
      "tensor(0.0081, device='cuda:0', grad_fn=<AddBackward0>) tensor(0.3418, device='cuda:0', grad_fn=<DivBackward0>)\n",
      "tensor(0.0069, device='cuda:0', grad_fn=<AddBackward0>) tensor(0.2914, device='cuda:0', grad_fn=<DivBackward0>)\n",
      "tensor(0.0063, device='cuda:0', grad_fn=<AddBackward0>) tensor(0.3004, device='cuda:0', grad_fn=<DivBackward0>)\n",
      "tensor(0.0058, device='cuda:0', grad_fn=<AddBackward0>) tensor(0.2920, device='cuda:0', grad_fn=<DivBackward0>)\n",
      "tensor(0.0054, device='cuda:0', grad_fn=<AddBackward0>) tensor(0.2886, device='cuda:0', grad_fn=<DivBackward0>)\n",
      "tensor(0.0047, device='cuda:0', grad_fn=<AddBackward0>) tensor(0.3296, device='cuda:0', grad_fn=<DivBackward0>)\n",
      "tensor(0.0025, device='cuda:0', grad_fn=<AddBackward0>) tensor(0.5024, device='cuda:0', grad_fn=<DivBackward0>)\n",
      "tensor(0.0013, device='cuda:0', grad_fn=<AddBackward0>) tensor(0.3824, device='cuda:0', grad_fn=<DivBackward0>)\n",
      "tensor(0.0010, device='cuda:0', grad_fn=<AddBackward0>) tensor(0.2828, device='cuda:0', grad_fn=<DivBackward0>)\n",
      "tensor(0.0009, device='cuda:0', grad_fn=<AddBackward0>) tensor(0.2919, device='cuda:0', grad_fn=<DivBackward0>)\n",
      "tensor(0.0008, device='cuda:0', grad_fn=<AddBackward0>) tensor(0.2791, device='cuda:0', grad_fn=<DivBackward0>)\n",
      "tensor(0.0007, device='cuda:0', grad_fn=<AddBackward0>) tensor(0.2680, device='cuda:0', grad_fn=<DivBackward0>)\n",
      "tensor(0.0007, device='cuda:0', grad_fn=<AddBackward0>) tensor(0.2623, device='cuda:0', grad_fn=<DivBackward0>)\n",
      "tensor(0.0006, device='cuda:0', grad_fn=<AddBackward0>) tensor(0.2547, device='cuda:0', grad_fn=<DivBackward0>)\n",
      "tensor(0.0006, device='cuda:0', grad_fn=<AddBackward0>) tensor(0.2659, device='cuda:0', grad_fn=<DivBackward0>)\n",
      "tensor(0.0006, device='cuda:0', grad_fn=<AddBackward0>) tensor(0.2631, device='cuda:0', grad_fn=<DivBackward0>)\n",
      "tensor(0.0005, device='cuda:0', grad_fn=<AddBackward0>) tensor(0.2604, device='cuda:0', grad_fn=<DivBackward0>)\n",
      "tensor(0.0005, device='cuda:0', grad_fn=<AddBackward0>) tensor(0.2484, device='cuda:0', grad_fn=<DivBackward0>)\n",
      "tensor(0.0004, device='cuda:0', grad_fn=<AddBackward0>) tensor(0.2613, device='cuda:0', grad_fn=<DivBackward0>)\n",
      "tensor(0.0003, device='cuda:0', grad_fn=<AddBackward0>) tensor(0.2630, device='cuda:0', grad_fn=<DivBackward0>)\n",
      "tensor(0.0003, device='cuda:0', grad_fn=<AddBackward0>) tensor(0.2765, device='cuda:0', grad_fn=<DivBackward0>)\n",
      "tensor(0.0002, device='cuda:0', grad_fn=<AddBackward0>) tensor(0.2821, device='cuda:0', grad_fn=<DivBackward0>)\n",
      "tensor(0.0002, device='cuda:0', grad_fn=<AddBackward0>) tensor(0.2743, device='cuda:0', grad_fn=<DivBackward0>)\n",
      "tensor(0.0001, device='cuda:0', grad_fn=<AddBackward0>) tensor(0.2703, device='cuda:0', grad_fn=<DivBackward0>)\n",
      "tensor(0.0001, device='cuda:0', grad_fn=<AddBackward0>) tensor(0.2690, device='cuda:0', grad_fn=<DivBackward0>)\n",
      "tensor(0.0001, device='cuda:0', grad_fn=<AddBackward0>) tensor(0.2687, device='cuda:0', grad_fn=<DivBackward0>)\n",
      "tensor(8.8209e-05, device='cuda:0', grad_fn=<AddBackward0>) tensor(0.2656, device='cuda:0', grad_fn=<DivBackward0>)\n",
      "tensor(7.8704e-05, device='cuda:0', grad_fn=<AddBackward0>) tensor(0.2654, device='cuda:0', grad_fn=<DivBackward0>)\n",
      "tensor(7.0060e-05, device='cuda:0', grad_fn=<AddBackward0>) tensor(0.2666, device='cuda:0', grad_fn=<DivBackward0>)\n",
      "tensor(6.5985e-05, device='cuda:0', grad_fn=<AddBackward0>) tensor(0.2685, device='cuda:0', grad_fn=<DivBackward0>)\n",
      "tensor(6.0863e-05, device='cuda:0', grad_fn=<AddBackward0>) tensor(0.2676, device='cuda:0', grad_fn=<DivBackward0>)\n",
      "tensor(5.6389e-05, device='cuda:0', grad_fn=<AddBackward0>) tensor(0.2682, device='cuda:0', grad_fn=<DivBackward0>)\n",
      "tensor(5.2944e-05, device='cuda:0', grad_fn=<AddBackward0>) tensor(0.2704, device='cuda:0', grad_fn=<DivBackward0>)\n",
      "tensor(4.9124e-05, device='cuda:0', grad_fn=<AddBackward0>) tensor(0.2713, device='cuda:0', grad_fn=<DivBackward0>)\n",
      "tensor(4.6296e-05, device='cuda:0', grad_fn=<AddBackward0>) tensor(0.2788, device='cuda:0', grad_fn=<DivBackward0>)\n",
      "tensor(4.3202e-05, device='cuda:0', grad_fn=<AddBackward0>) tensor(0.2749, device='cuda:0', grad_fn=<DivBackward0>)\n",
      "tensor(4.1136e-05, device='cuda:0', grad_fn=<AddBackward0>) tensor(0.2719, device='cuda:0', grad_fn=<DivBackward0>)\n",
      "tensor(3.9589e-05, device='cuda:0', grad_fn=<AddBackward0>) tensor(0.2674, device='cuda:0', grad_fn=<DivBackward0>)\n",
      "tensor(3.8141e-05, device='cuda:0', grad_fn=<AddBackward0>) tensor(0.2687, device='cuda:0', grad_fn=<DivBackward0>)\n",
      "tensor(3.6096e-05, device='cuda:0', grad_fn=<AddBackward0>) tensor(0.2697, device='cuda:0', grad_fn=<DivBackward0>)\n",
      "tensor(3.3449e-05, device='cuda:0', grad_fn=<AddBackward0>) tensor(0.2682, device='cuda:0', grad_fn=<DivBackward0>)\n",
      "tensor(3.1543e-05, device='cuda:0', grad_fn=<AddBackward0>) tensor(0.2663, device='cuda:0', grad_fn=<DivBackward0>)\n",
      "tensor(2.9965e-05, device='cuda:0', grad_fn=<AddBackward0>) tensor(0.2671, device='cuda:0', grad_fn=<DivBackward0>)\n",
      "tensor(2.8872e-05, device='cuda:0', grad_fn=<AddBackward0>) tensor(0.2690, device='cuda:0', grad_fn=<DivBackward0>)\n",
      "tensor(2.7765e-05, device='cuda:0', grad_fn=<AddBackward0>) tensor(0.2711, device='cuda:0', grad_fn=<DivBackward0>)\n",
      "tensor(2.6539e-05, device='cuda:0', grad_fn=<AddBackward0>) tensor(0.2713, device='cuda:0', grad_fn=<DivBackward0>)\n",
      "tensor(2.5580e-05, device='cuda:0', grad_fn=<AddBackward0>) tensor(0.2721, device='cuda:0', grad_fn=<DivBackward0>)\n",
      "tensor(2.4521e-05, device='cuda:0', grad_fn=<AddBackward0>) tensor(0.2746, device='cuda:0', grad_fn=<DivBackward0>)\n",
      "tensor(2.3462e-05, device='cuda:0', grad_fn=<AddBackward0>) tensor(0.2764, device='cuda:0', grad_fn=<DivBackward0>)\n",
      "tensor(2.2755e-05, device='cuda:0', grad_fn=<AddBackward0>) tensor(0.2782, device='cuda:0', grad_fn=<DivBackward0>)\n",
      "tensor(2.1930e-05, device='cuda:0', grad_fn=<AddBackward0>) tensor(0.2799, device='cuda:0', grad_fn=<DivBackward0>)\n",
      "tensor(2.0975e-05, device='cuda:0', grad_fn=<AddBackward0>) tensor(0.2793, device='cuda:0', grad_fn=<DivBackward0>)\n",
      "tensor(2.0156e-05, device='cuda:0', grad_fn=<AddBackward0>) tensor(0.2792, device='cuda:0', grad_fn=<DivBackward0>)\n",
      "tensor(1.9004e-05, device='cuda:0', grad_fn=<AddBackward0>) tensor(0.2799, device='cuda:0', grad_fn=<DivBackward0>)\n",
      "tensor(1.8290e-05, device='cuda:0', grad_fn=<AddBackward0>) tensor(0.2799, device='cuda:0', grad_fn=<DivBackward0>)\n",
      "tensor(1.7451e-05, device='cuda:0', grad_fn=<AddBackward0>) tensor(0.2792, device='cuda:0', grad_fn=<DivBackward0>)\n",
      "tensor(1.7007e-05, device='cuda:0', grad_fn=<AddBackward0>) tensor(0.2795, device='cuda:0', grad_fn=<DivBackward0>)\n",
      "tensor(1.6320e-05, device='cuda:0', grad_fn=<AddBackward0>) tensor(0.2794, device='cuda:0', grad_fn=<DivBackward0>)\n",
      "tensor(1.5758e-05, device='cuda:0', grad_fn=<AddBackward0>) tensor(0.2784, device='cuda:0', grad_fn=<DivBackward0>)\n",
      "tensor(1.5185e-05, device='cuda:0', grad_fn=<AddBackward0>) tensor(0.2782, device='cuda:0', grad_fn=<DivBackward0>)\n",
      "tensor(1.4492e-05, device='cuda:0', grad_fn=<AddBackward0>) tensor(0.2790, device='cuda:0', grad_fn=<DivBackward0>)\n",
      "tensor(1.4059e-05, device='cuda:0', grad_fn=<AddBackward0>) tensor(0.2800, device='cuda:0', grad_fn=<DivBackward0>)\n",
      "tensor(1.3606e-05, device='cuda:0', grad_fn=<AddBackward0>) tensor(0.2819, device='cuda:0', grad_fn=<DivBackward0>)\n",
      "tensor(1.3094e-05, device='cuda:0', grad_fn=<AddBackward0>) tensor(0.2831, device='cuda:0', grad_fn=<DivBackward0>)\n",
      "tensor(1.2389e-05, device='cuda:0', grad_fn=<AddBackward0>) tensor(0.2864, device='cuda:0', grad_fn=<DivBackward0>)\n",
      "tensor(1.2036e-05, device='cuda:0', grad_fn=<AddBackward0>) tensor(0.2867, device='cuda:0', grad_fn=<DivBackward0>)\n",
      "tensor(1.1677e-05, device='cuda:0', grad_fn=<AddBackward0>) tensor(0.2887, device='cuda:0', grad_fn=<DivBackward0>)\n",
      "Training time: 390.61\n",
      "Test Error: 0.28859\n"
     ]
    },
    {
     "data": {
      "text/plain": [
       "' Solution Plot '"
      ]
     },
     "execution_count": 104,
     "metadata": {},
     "output_type": "execute_result"
    }
   ],
   "source": [
    "'Generate Training data'\n",
    "N_u = 100#*5 #Total number of data points for 'u'\n",
    "N_f = 10_000#*5 #Total number of collocation points \n",
    "X_f_train_np_array, X_u_train_np_array, u_train_np_array = trainingdata(N_u,N_f)\n",
    "\n",
    "'Convert to tensor and send to GPU'\n",
    "X_f_train = torch.from_numpy(X_f_train_np_array).float().to(device)\n",
    "X_u_train = torch.from_numpy(X_u_train_np_array).float().to(device)\n",
    "u_train = torch.from_numpy(u_train_np_array).float().to(device)\n",
    "X_u_test_tensor = torch.from_numpy(X_u_test).float().to(device)\n",
    "u = torch.from_numpy(u_true).float().to(device)\n",
    "f_hat = torch.zeros(X_f_train.shape[0],1).to(device)\n",
    "\n",
    "layers = np.array([3,20,20,20,20,20,20,20,20,1]) #8 hidden layers\n",
    "\n",
    "PINN = Sequentialmodel(layers)\n",
    "       \n",
    "PINN.to(device)\n",
    "\n",
    "'Neural Network Summary'\n",
    "print(PINN)\n",
    "\n",
    "params = list(PINN.parameters())\n",
    "\n",
    "'''Optimization'''\n",
    "\n",
    "'L-BFGS Optimizer'\n",
    "optimizer = torch.optim.LBFGS(PINN.parameters(), lr=0.1, \n",
    "                              max_iter = 20000, \n",
    "                              max_eval = None, \n",
    "                              tolerance_grad = 1e-05, \n",
    "                              tolerance_change = 1e-09, \n",
    "                              history_size = 100, \n",
    "                              line_search_fn = 'strong_wolfe')\n",
    "\n",
    "start_time = time.time()\n",
    "\n",
    "optimizer.step(PINN.closure)\n",
    "\n",
    "\n",
    "'Adam Optimizer'    \n",
    "    \n",
    "elapsed = time.time() - start_time                \n",
    "print('Training time: %.2f' % (elapsed))\n",
    "\n",
    "\n",
    "''' Model Accuracy ''' \n",
    "error_vec, u_pred = PINN.test()\n",
    "\n",
    "print('Test Error: %.5f'  % (error_vec))\n",
    "\n",
    "\n",
    "''' Solution Plot '''\n",
    "# solutionplot(u_pred,X_u_train.cpu().detach().numpy(),u_train.cpu().detach().numpy())"
   ]
  },
  {
   "cell_type": "code",
   "execution_count": 105,
   "id": "bb1eb313-a208-4c5f-b3ed-0fa0bdf120f2",
   "metadata": {},
   "outputs": [
    {
     "name": "stdout",
     "output_type": "stream",
     "text": [
      "(101, 101, 5) (100, 3) (100, 1)\n"
     ]
    }
   ],
   "source": [
    "print(u_pred.shape,X_u_train.cpu().detach().numpy().shape,u_train.cpu().detach().numpy().shape)"
   ]
  },
  {
   "cell_type": "markdown",
   "id": "13afaba6",
   "metadata": {
    "colab_type": "text",
    "id": "bOjuHdzAhib-"
   },
   "source": [
    "# *Solution Plot*"
   ]
  },
  {
   "cell_type": "code",
   "execution_count": 106,
   "id": "4e17b78d-eb28-43bd-abff-a7630c116ecd",
   "metadata": {},
   "outputs": [],
   "source": [
    "def solutionplot(u_pred,X_u_train,u_train,zzz):\n",
    "    # zzz=0\n",
    "    fig, ax = plt.subplots()\n",
    "    ax.axis('off')\n",
    "\n",
    "    gs0 = gridspec.GridSpec(1, 2)\n",
    "    gs0.update(top=1-0.06, bottom=1-1/3, left=0.15, right=0.85, wspace=0)\n",
    "    ax = plt.subplot(gs0[:, :])\n",
    "\n",
    "    h = ax.imshow(u_pred[:,:,zzz], interpolation='nearest', cmap='rainbow', \n",
    "                extent=[T.min(), T.max(), X.min(), X.max()], \n",
    "                origin='lower', aspect='auto')\n",
    "    divider = make_axes_locatable(ax)\n",
    "    cax = divider.append_axes(\"right\", size=\"5%\", pad=0.05)\n",
    "    fig.colorbar(h, cax=cax)\n",
    "    \n",
    "    ax.plot(X_u_train[:,1], X_u_train[:,0], 'kx', label = 'Data (%d points)' % (u_train.shape[0]), markersize = 4, clip_on = False)\n",
    "\n",
    "    line = np.linspace(x.min(), x.max(), 2)[:,None]\n",
    "    ax.plot(t[25]*np.ones((2,1)), line, 'w-', linewidth = 1)\n",
    "    ax.plot(t[50]*np.ones((2,1)), line, 'w-', linewidth = 1)\n",
    "    ax.plot(t[75]*np.ones((2,1)), line, 'w-', linewidth = 1)    \n",
    "\n",
    "    ax.set_xlabel('$t$')\n",
    "    ax.set_ylabel('$x$')\n",
    "    ax.legend(frameon=False, loc = 'best')\n",
    "    ax.set_title('$u(x,t)$', fontsize = 10)"
   ]
  },
  {
   "cell_type": "code",
   "execution_count": 107,
   "id": "36c11019-0edb-4d0f-98e8-a49f61817075",
   "metadata": {},
   "outputs": [
    {
     "data": {
      "image/png": "[encoded data removed]",
      "text/plain": [
       "<Figure size 640x480 with 3 Axes>"
      ]
     },
     "metadata": {},
     "output_type": "display_data"
    }
   ],
   "source": [
    "zzz=4  \n",
    "solutionplot(u_pred,X_u_train.cpu().detach().numpy(),u_train.cpu().detach().numpy(),zzz)"
   ]
  },
  {
   "cell_type": "markdown",
   "id": "9d0d7054-adfc-4220-add4-5c2cb2f58a94",
   "metadata": {},
   "source": [
    "# Testing results\n",
    "## loading extrapolation testing data can get extrapolation predictions"
   ]
  },
  {
   "cell_type": "code",
   "execution_count": 116,
   "id": "938edbe5-0822-48f3-b4a0-52cdb87ffabb",
   "metadata": {},
   "outputs": [],
   "source": [
    "data1 = scipy.io.loadmat('Burges_Pinns_test_interpolation.mat')  \t# Load data from file\n",
    "x1 = data1['x4']                                  \n",
    "t1 = data1['t4']                                   \n",
    "nu1 =data1['v4']\n",
    "usol1 = data1['usol_4']                            \n",
    "\n",
    "X1, T1, V1 = np.meshgrid(x1,t1, nu1)  "
   ]
  },
  {
   "cell_type": "code",
   "execution_count": 119,
   "id": "0c688837-136a-4e2d-9d56-b02bdf2ba7fd",
   "metadata": {},
   "outputs": [
    {
     "name": "stdout",
     "output_type": "stream",
     "text": [
      "(51005, 3) (51005, 1) [0.    0.    0.014] [1.    1.    0.046]\n"
     ]
    }
   ],
   "source": [
    "''' X_u_test = [X[i],T[i]] [25600,2] for interpolation'''\n",
    "X_u_test1 = np.hstack((X1.flatten()[:,None], T1.flatten()[:,None], V1.flatten()[:,None]))\n",
    "\n",
    "# Domain bounds\n",
    "# lb = X_u_test1[0]  # [-1. 0.]\n",
    "# ub = X_u_test1[-1] # [1.  0.99]\n",
    "\n",
    "'''\n",
    "   Fortran Style ('F') flatten,stacked column wise!\n",
    "   u = [c1 \n",
    "        c2\n",
    "        .\n",
    "        .\n",
    "        cn]\n",
    "\n",
    "   u =  [25600x1] \n",
    "'''\n",
    "usol_transposed1 = usol1.transpose(1, 0, 2)\n",
    "usol_reshaped1 = usol_transposed1.reshape(101, 101, 5)\n",
    "u_true1 = usol_reshaped1.flatten('C')[:,None] \n",
    "\n",
    "print(X_u_test1.shape,u_true1.shape,lb,ub)\n",
    "# 51005= 101* 101* 5"
   ]
  },
  {
   "cell_type": "code",
   "execution_count": 120,
   "id": "e336f6af-7324-4264-b072-ccb8fef70466",
   "metadata": {},
   "outputs": [],
   "source": [
    "X_u_test_tensor = torch.from_numpy(X_u_test1).float().to(device)"
   ]
  },
  {
   "cell_type": "code",
   "execution_count": 121,
   "id": "9d355760-7375-409c-bdf0-32d263339a00",
   "metadata": {},
   "outputs": [
    {
     "name": "stdout",
     "output_type": "stream",
     "text": [
      "Test Error: 0.28560\n"
     ]
    }
   ],
   "source": [
    "error_vec, u_pred1 = PINN.test()\n",
    "print('Test Error: %.5f'  % (error_vec))"
   ]
  },
  {
   "cell_type": "code",
   "execution_count": 122,
   "id": "927b2d32-61e1-4147-8e8d-198ae8eef5e7",
   "metadata": {},
   "outputs": [],
   "source": [
    "def solutionplot1(u_pred1,X_u_train1,u_train1,zzz):\n",
    "    # zzz=0\n",
    "    fig, ax = plt.subplots()\n",
    "    ax.axis('off')\n",
    "\n",
    "    gs0 = gridspec.GridSpec(1, 2)\n",
    "    gs0.update(top=1-0.06, bottom=1-1/3, left=0.15, right=0.85, wspace=0)\n",
    "    ax = plt.subplot(gs0[:, :])\n",
    "\n",
    "    h = ax.imshow(u_pred[:,:,zzz], interpolation='nearest', cmap='rainbow', \n",
    "                extent=[T1.min(), T1.max(), X1.min(), X1.max()], \n",
    "                origin='lower', aspect='auto')\n",
    "    divider = make_axes_locatable(ax)\n",
    "    cax = divider.append_axes(\"right\", size=\"5%\", pad=0.05)\n",
    "    fig.colorbar(h, cax=cax) \n",
    "\n",
    "    ax.set_xlabel('$t$')\n",
    "    ax.set_ylabel('$x$')\n",
    "    ax.legend(frameon=False, loc = 'best')\n",
    "    ax.set_title('$u(x,t)$', fontsize = 10)"
   ]
  },
  {
   "cell_type": "code",
   "execution_count": 123,
   "id": "bbbfd74f-28e2-465d-9bcd-ec46e44e11b7",
   "metadata": {},
   "outputs": [
    {
     "name": "stderr",
     "output_type": "stream",
     "text": [
      "C:\\Users\\DV Group\\AppData\\Local\\Temp\\ipykernel_75728\\3181084626.py:19: UserWarning: No artists with labels found to put in legend.  Note that artists whose label start with an underscore are ignored when legend() is called with no argument.\n",
      "  ax.legend(frameon=False, loc = 'best')\n"
     ]
    },
    {
     "data": {
      "image/png": "[encoded data removed]",
      "text/plain": [
       "<Figure size 640x480 with 3 Axes>"
      ]
     },
     "metadata": {},
     "output_type": "display_data"
    }
   ],
   "source": [
    "zzz=4   \n",
    "solutionplot1(u_pred1,X_u_train.cpu().detach().numpy(),u_train.cpu().detach().numpy(),zzz)"
   ]
  },
  {
   "cell_type": "markdown",
   "id": "32e6b5d9-87c0-4ef1-abac-a7c3bd1e8f09",
   "metadata": {},
   "source": [
    "# save testing predictions"
   ]
  },
  {
   "cell_type": "code",
   "execution_count": 124,
   "id": "eb2cd605-0c9e-4c95-b698-f8c6a9c9e8d1",
   "metadata": {},
   "outputs": [],
   "source": [
    "from scipy.io import savemat\n",
    "data = {\n",
    "    \"u_pred1\": u_pred1,\n",
    "    \"u_true\": usol1,\n",
    "    \"v_values\": nu1,\n",
    "    \"x\": x1,\n",
    "    \"t\": t1,\n",
    "}\n",
    "# Save to a .mat file\n",
    "savemat(\"interpolation_burger_pinns.mat\",data)"
   ]
  }
 ],
 "metadata": {
  "kernelspec": {
   "display_name": "Python (DL_nif)",
   "language": "python",
   "name": "dl_nif"
  },
  "language_info": {
   "codemirror_mode": {
    "name": "ipython",
    "version": 3
   },
   "file_extension": ".py",
   "mimetype": "text/x-python",
   "name": "python",
   "nbconvert_exporter": "python",
   "pygments_lexer": "ipython3",
   "version": "3.10.15"
  }
 },
 "nbformat": 4,
 "nbformat_minor": 5
}
